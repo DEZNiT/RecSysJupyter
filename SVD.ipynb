{
 "cells": [
  {
   "cell_type": "code",
   "execution_count": 3,
   "metadata": {},
   "outputs": [],
   "source": [
    "from surprise import SVD\n",
    "from surprise import Dataset\n",
    "from surprise.model_selection import cross_validate\n"
   ]
  },
  {
   "cell_type": "code",
   "execution_count": 7,
   "metadata": {},
   "outputs": [
    {
     "name": "stdout",
     "output_type": "stream",
     "text": [
      "Dataset ml-1m could not be found. Do you want to download it? [Y/n] y\n",
      "Trying to download dataset from http://files.grouplens.org/datasets/movielens/ml-1m.zip...\n",
      "Done! Dataset ml-1m has been saved to /home/anoop/.surprise_data/ml-1m\n"
     ]
    }
   ],
   "source": [
    "data = Dataset.load_builtin('ml-1m')\n"
   ]
  },
  {
   "cell_type": "code",
   "execution_count": 8,
   "metadata": {},
   "outputs": [
    {
     "name": "stdout",
     "output_type": "stream",
     "text": [
      "Evaluating RMSE, MAE of algorithm SVD on 5 split(s).\n",
      "\n",
      "                  Fold 1  Fold 2  Fold 3  Fold 4  Fold 5  Mean    Std     \n",
      "MAE (testset)     0.6845  0.6847  0.6833  0.6877  0.6883  0.6857  0.0019  \n",
      "RMSE (testset)    0.8719  0.8723  0.8698  0.8762  0.8759  0.8732  0.0025  \n",
      "Fit time          83.19   85.04   85.70   84.87   46.04   76.97   15.48   \n",
      "Test time         3.36    3.38    3.32    1.89    1.67    2.72    0.78    \n"
     ]
    },
    {
     "data": {
      "text/plain": [
       "{'fit_time': (83.18583035469055,\n",
       "  85.03509521484375,\n",
       "  85.69666409492493,\n",
       "  84.86953616142273,\n",
       "  46.0401029586792),\n",
       " 'test_mae': array([0.68450807, 0.68474083, 0.68326332, 0.68765499, 0.68825872]),\n",
       " 'test_rmse': array([0.87188453, 0.87229695, 0.8697613 , 0.87618103, 0.87587851]),\n",
       " 'test_time': (3.3632078170776367,\n",
       "  3.375653028488159,\n",
       "  3.3230888843536377,\n",
       "  1.8860948085784912,\n",
       "  1.669105052947998)}"
      ]
     },
     "execution_count": 8,
     "metadata": {},
     "output_type": "execute_result"
    }
   ],
   "source": [
    "algo = SVD()\n",
    "cross_validate(algo, data, measures=['RMSE', 'MAE'], cv=5, verbose=True)"
   ]
  },
  {
   "cell_type": "code",
   "execution_count": null,
   "metadata": {},
   "outputs": [],
   "source": []
  }
 ],
 "metadata": {
  "kernelspec": {
   "display_name": "Python 3",
   "language": "python",
   "name": "python3"
  },
  "language_info": {
   "codemirror_mode": {
    "name": "ipython",
    "version": 3
   },
   "file_extension": ".py",
   "mimetype": "text/x-python",
   "name": "python",
   "nbconvert_exporter": "python",
   "pygments_lexer": "ipython3",
   "version": "3.5.2"
  }
 },
 "nbformat": 4,
 "nbformat_minor": 2
}
